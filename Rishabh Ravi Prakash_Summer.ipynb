{
  "nbformat": 4,
  "nbformat_minor": 2,
  "metadata": {
    "kernelspec": {
      "name": "python3",
      "display_name": "Python 3.8.8 64-bit ('base': conda)"
    },
    "language_info": {
      "name": "python",
      "version": "3.8.8",
      "mimetype": "text/x-python",
      "codemirror_mode": {
        "name": "ipython",
        "version": 3
      },
      "pygments_lexer": "ipython3",
      "nbconvert_exporter": "python",
      "file_extension": ".py"
    },
    "colab": {
      "name": "Summer.ipynb",
      "provenance": [],
      "collapsed_sections": []
    },
    "interpreter": {
      "hash": "bcc06a3c1dba5d867dd883983b7ec3c1af46c3d0cc60ff7d933d2404a372e980"
    }
  },
  "cells": [
    {
      "cell_type": "markdown",
      "source": [
        "# Summer Olympics Data Analysis Assignment"
      ],
      "metadata": {
        "id": "3wAZliYagvvD"
      }
    },
    {
      "cell_type": "code",
      "execution_count": 25,
      "source": [
        "import pandas as pd\r\n"
      ],
      "outputs": [],
      "metadata": {
        "id": "MaBeMj3Og2rG"
      }
    },
    {
      "cell_type": "code",
      "execution_count": 26,
      "source": [
        "df = pd.read_csv('summer.csv')"
      ],
      "outputs": [],
      "metadata": {
        "id": "zlRNORVUg8so"
      }
    },
    {
      "cell_type": "code",
      "execution_count": 27,
      "source": [
        "df.head()"
      ],
      "outputs": [
        {
          "output_type": "execute_result",
          "data": {
            "text/html": [
              "<div>\n",
              "<style scoped>\n",
              "    .dataframe tbody tr th:only-of-type {\n",
              "        vertical-align: middle;\n",
              "    }\n",
              "\n",
              "    .dataframe tbody tr th {\n",
              "        vertical-align: top;\n",
              "    }\n",
              "\n",
              "    .dataframe thead th {\n",
              "        text-align: right;\n",
              "    }\n",
              "</style>\n",
              "<table border=\"1\" class=\"dataframe\">\n",
              "  <thead>\n",
              "    <tr style=\"text-align: right;\">\n",
              "      <th></th>\n",
              "      <th>Year</th>\n",
              "      <th>City</th>\n",
              "      <th>Sport</th>\n",
              "      <th>Discipline</th>\n",
              "      <th>Athlete</th>\n",
              "      <th>Country</th>\n",
              "      <th>Gender</th>\n",
              "      <th>Event</th>\n",
              "      <th>Medal</th>\n",
              "    </tr>\n",
              "  </thead>\n",
              "  <tbody>\n",
              "    <tr>\n",
              "      <th>0</th>\n",
              "      <td>1896</td>\n",
              "      <td>Athens</td>\n",
              "      <td>Aquatics</td>\n",
              "      <td>Swimming</td>\n",
              "      <td>HAJOS, Alfred</td>\n",
              "      <td>HUN</td>\n",
              "      <td>Men</td>\n",
              "      <td>100M Freestyle</td>\n",
              "      <td>Gold</td>\n",
              "    </tr>\n",
              "    <tr>\n",
              "      <th>1</th>\n",
              "      <td>1896</td>\n",
              "      <td>Athens</td>\n",
              "      <td>Aquatics</td>\n",
              "      <td>Swimming</td>\n",
              "      <td>HERSCHMANN, Otto</td>\n",
              "      <td>AUT</td>\n",
              "      <td>Men</td>\n",
              "      <td>100M Freestyle</td>\n",
              "      <td>Silver</td>\n",
              "    </tr>\n",
              "    <tr>\n",
              "      <th>2</th>\n",
              "      <td>1896</td>\n",
              "      <td>Athens</td>\n",
              "      <td>Aquatics</td>\n",
              "      <td>Swimming</td>\n",
              "      <td>DRIVAS, Dimitrios</td>\n",
              "      <td>GRE</td>\n",
              "      <td>Men</td>\n",
              "      <td>100M Freestyle For Sailors</td>\n",
              "      <td>Bronze</td>\n",
              "    </tr>\n",
              "    <tr>\n",
              "      <th>3</th>\n",
              "      <td>1896</td>\n",
              "      <td>Athens</td>\n",
              "      <td>Aquatics</td>\n",
              "      <td>Swimming</td>\n",
              "      <td>MALOKINIS, Ioannis</td>\n",
              "      <td>GRE</td>\n",
              "      <td>Men</td>\n",
              "      <td>100M Freestyle For Sailors</td>\n",
              "      <td>Gold</td>\n",
              "    </tr>\n",
              "    <tr>\n",
              "      <th>4</th>\n",
              "      <td>1896</td>\n",
              "      <td>Athens</td>\n",
              "      <td>Aquatics</td>\n",
              "      <td>Swimming</td>\n",
              "      <td>CHASAPIS, Spiridon</td>\n",
              "      <td>GRE</td>\n",
              "      <td>Men</td>\n",
              "      <td>100M Freestyle For Sailors</td>\n",
              "      <td>Silver</td>\n",
              "    </tr>\n",
              "  </tbody>\n",
              "</table>\n",
              "</div>"
            ],
            "text/plain": [
              "   Year    City     Sport Discipline             Athlete Country Gender  \\\n",
              "0  1896  Athens  Aquatics   Swimming       HAJOS, Alfred     HUN    Men   \n",
              "1  1896  Athens  Aquatics   Swimming    HERSCHMANN, Otto     AUT    Men   \n",
              "2  1896  Athens  Aquatics   Swimming   DRIVAS, Dimitrios     GRE    Men   \n",
              "3  1896  Athens  Aquatics   Swimming  MALOKINIS, Ioannis     GRE    Men   \n",
              "4  1896  Athens  Aquatics   Swimming  CHASAPIS, Spiridon     GRE    Men   \n",
              "\n",
              "                        Event   Medal  \n",
              "0              100M Freestyle    Gold  \n",
              "1              100M Freestyle  Silver  \n",
              "2  100M Freestyle For Sailors  Bronze  \n",
              "3  100M Freestyle For Sailors    Gold  \n",
              "4  100M Freestyle For Sailors  Silver  "
            ]
          },
          "metadata": {},
          "execution_count": 27
        }
      ],
      "metadata": {
        "colab": {
          "base_uri": "https://localhost:8080/",
          "height": 203
        },
        "id": "vz6NchsMhDmq",
        "outputId": "aeb7d955-44ec-495e-dc70-5dc1c6b62973"
      }
    },
    {
      "cell_type": "markdown",
      "source": [
        "### 1. In how many cities Summer Olympics is held so far?"
      ],
      "metadata": {
        "id": "D7ZjL6I8gvvH"
      }
    },
    {
      "cell_type": "code",
      "execution_count": 28,
      "source": [
        "len(df['City'].unique())"
      ],
      "outputs": [
        {
          "output_type": "execute_result",
          "data": {
            "text/plain": [
              "22"
            ]
          },
          "metadata": {},
          "execution_count": 28
        }
      ],
      "metadata": {
        "colab": {
          "base_uri": "https://localhost:8080/"
        },
        "id": "3_DxxiA6gvvH",
        "outputId": "9e5196a2-7eda-4279-b1e2-a06f090cd9c1"
      }
    },
    {
      "cell_type": "markdown",
      "source": [
        "### 2. Which sport is having most number of Gold Medals so far? (Top 5)"
      ],
      "metadata": {
        "id": "Hc3FYqIMgvvI"
      }
    },
    {
      "cell_type": "code",
      "execution_count": 29,
      "source": [
        "df = pd.read_csv('summer.csv')\r\n",
        "df = df[df['Medal']=='Gold']\r\n",
        "\r\n",
        "data = []\r\n",
        "\r\n",
        "for sport in df['Sport'].unique():\r\n",
        "   data.append([sport,len(df[df['Sport']==sport])])\r\n",
        "\r\n",
        "pd.DataFrame(data,columns=['sport','freq']).sort_values(by='freq',ascending=False).head().plot(x='sport',y='freq',kind='bar',figsize=(5,5))"
      ],
      "outputs": [
        {
          "output_type": "execute_result",
          "data": {
            "text/plain": [
              "<AxesSubplot:xlabel='sport'>"
            ]
          },
          "metadata": {},
          "execution_count": 29
        },
        {
          "output_type": "display_data",
          "data": {
            "image/png": "[encoded data removed]",
            "text/plain": [
              "<Figure size 360x360 with 1 Axes>"
            ]
          },
          "metadata": {
            "needs_background": "light"
          }
        }
      ],
      "metadata": {
        "id": "xdgwrZH9j4P_",
        "colab": {
          "base_uri": "https://localhost:8080/",
          "height": 403
        },
        "outputId": "a7f2a9bd-ba62-4496-da82-40331d036b3b"
      }
    },
    {
      "cell_type": "markdown",
      "source": [
        "### 3. Which sport is having most number of medals so far? (Top 5)"
      ],
      "metadata": {
        "id": "5t4k1C_6gvvI"
      }
    },
    {
      "cell_type": "code",
      "execution_count": 30,
      "source": [
        "df = pd.read_csv('summer.csv')\r\n",
        "data = []\r\n",
        "for sport in df['Sport'].unique():\r\n",
        "  data.append([sport, len(df[df['Sport'] == sport])])\r\n",
        "\r\n",
        "pd.DataFrame(data,columns=['sport','freq']).sort_values(by='freq',ascending=False).head().plot(x='sport',y='freq',kind='bar',figsize=(5,5))"
      ],
      "outputs": [
        {
          "output_type": "execute_result",
          "data": {
            "text/plain": [
              "<AxesSubplot:xlabel='sport'>"
            ]
          },
          "metadata": {},
          "execution_count": 30
        },
        {
          "output_type": "display_data",
          "data": {
            "image/png": "[encoded data removed]",
            "text/plain": [
              "<Figure size 360x360 with 1 Axes>"
            ]
          },
          "metadata": {
            "needs_background": "light"
          }
        }
      ],
      "metadata": {
        "colab": {
          "base_uri": "https://localhost:8080/",
          "height": 403
        },
        "id": "xyIyQMWagvvJ",
        "outputId": "2370b75a-0991-4464-83bb-bdca27e8139e"
      }
    },
    {
      "cell_type": "markdown",
      "source": [
        "### 4. Which player has won most number of medals? (Top 5)"
      ],
      "metadata": {
        "id": "FKowqSrPgvvJ"
      }
    },
    {
      "cell_type": "code",
      "execution_count": 37,
      "source": [
        "df = pd.read_csv('summer.csv')\r\n",
        "data  = []\r\n",
        "\r\n",
        "for Athlete in df['Athlete'].unique():\r\n",
        "  data.append([Athlete, len(df[df['Athlete'] == Athlete])])\r\n",
        "\r\n",
        "pd.DataFrame(data,columns=['Athlete','freq']).sort_values(by='freq',ascending=False).head().plot(x='Athlete',y='freq',kind='bar',figsize=(5,5))"
      ],
      "outputs": [
        {
          "output_type": "execute_result",
          "data": {
            "text/plain": [
              "<AxesSubplot:xlabel='Athlete'>"
            ]
          },
          "metadata": {},
          "execution_count": 37
        },
        {
          "output_type": "display_data",
          "data": {
            "image/png": "[encoded data removed]",
            "text/plain": [
              "<Figure size 360x360 with 1 Axes>"
            ]
          },
          "metadata": {
            "needs_background": "light"
          }
        }
      ],
      "metadata": {
        "colab": {
          "base_uri": "https://localhost:8080/",
          "height": 462
        },
        "id": "Air3QhzPgvvJ",
        "outputId": "72ca98b1-a24c-4eb7-f628-4a39445ebbaf"
      }
    },
    {
      "cell_type": "markdown",
      "source": [
        "### 5. Which player has won most number Gold Medals of medals? (Top 5)"
      ],
      "metadata": {
        "id": "VBzxyHvegvvK"
      }
    },
    {
      "cell_type": "code",
      "execution_count": 33,
      "source": [
        "df = pd.read_csv('summer.csv')\r\n",
        "df = df[df['Medal']=='Gold']\r\n",
        "\r\n",
        "data = []\r\n",
        "\r\n",
        "for athlete in df['Athlete'].unique():\r\n",
        "   data.append([athlete,len(df[df['Athlete']==athlete])])\r\n",
        "\r\n",
        "pd.DataFrame(data,columns=['athlete','freq']).sort_values(by='freq',ascending=False).head().plot(x='athlete',y='freq',kind='bar',figsize=(5,5))"
      ],
      "outputs": [
        {
          "output_type": "execute_result",
          "data": {
            "text/plain": [
              "<AxesSubplot:xlabel='athlete'>"
            ]
          },
          "metadata": {},
          "execution_count": 33
        },
        {
          "output_type": "display_data",
          "data": {
            "image/png": "[encoded data removed]",
            "text/plain": [
              "<Figure size 360x360 with 1 Axes>"
            ]
          },
          "metadata": {
            "needs_background": "light"
          }
        }
      ],
      "metadata": {
        "id": "-uif5mK-gvvK",
        "colab": {
          "base_uri": "https://localhost:8080/",
          "height": 430
        },
        "outputId": "b8ada75b-3369-4351-98b2-e8c6c3f7cb89"
      }
    },
    {
      "cell_type": "markdown",
      "source": [
        "### 6. In which year India won first Gold Medal in Summer Olympics?"
      ],
      "metadata": {
        "id": "40evw-HzgvvK"
      }
    },
    {
      "cell_type": "code",
      "execution_count": 34,
      "source": [
        "df = pd.read_csv('summer.csv')\r\n",
        "df = df[df['Medal']=='Gold']\r\n",
        "df = df[df['Country']=='IND']\r\n",
        "df.head(1)"
      ],
      "outputs": [
        {
          "output_type": "execute_result",
          "data": {
            "text/html": [
              "<div>\n",
              "<style scoped>\n",
              "    .dataframe tbody tr th:only-of-type {\n",
              "        vertical-align: middle;\n",
              "    }\n",
              "\n",
              "    .dataframe tbody tr th {\n",
              "        vertical-align: top;\n",
              "    }\n",
              "\n",
              "    .dataframe thead th {\n",
              "        text-align: right;\n",
              "    }\n",
              "</style>\n",
              "<table border=\"1\" class=\"dataframe\">\n",
              "  <thead>\n",
              "    <tr style=\"text-align: right;\">\n",
              "      <th></th>\n",
              "      <th>Year</th>\n",
              "      <th>City</th>\n",
              "      <th>Sport</th>\n",
              "      <th>Discipline</th>\n",
              "      <th>Athlete</th>\n",
              "      <th>Country</th>\n",
              "      <th>Gender</th>\n",
              "      <th>Event</th>\n",
              "      <th>Medal</th>\n",
              "    </tr>\n",
              "  </thead>\n",
              "  <tbody>\n",
              "    <tr>\n",
              "      <th>5512</th>\n",
              "      <td>1928</td>\n",
              "      <td>Amsterdam</td>\n",
              "      <td>Hockey</td>\n",
              "      <td>Hockey</td>\n",
              "      <td>ALLEN, Richard James</td>\n",
              "      <td>IND</td>\n",
              "      <td>Men</td>\n",
              "      <td>Hockey</td>\n",
              "      <td>Gold</td>\n",
              "    </tr>\n",
              "  </tbody>\n",
              "</table>\n",
              "</div>"
            ],
            "text/plain": [
              "      Year       City   Sport Discipline               Athlete Country Gender  \\\n",
              "5512  1928  Amsterdam  Hockey     Hockey  ALLEN, Richard James     IND    Men   \n",
              "\n",
              "       Event Medal  \n",
              "5512  Hockey  Gold  "
            ]
          },
          "metadata": {},
          "execution_count": 34
        }
      ],
      "metadata": {
        "colab": {
          "base_uri": "https://localhost:8080/"
        },
        "id": "aIT_ESvqgvvL",
        "outputId": "e5348089-bb85-4702-93c7-4b30bcb42b9c"
      }
    },
    {
      "cell_type": "markdown",
      "source": [
        "### 7. Which event is most popular in terms on number of players? (Top 5)"
      ],
      "metadata": {
        "id": "3JvQEVTYgvvL"
      }
    },
    {
      "cell_type": "code",
      "execution_count": 35,
      "source": [
        "df = pd.read_csv('summer.csv')\r\n",
        "data=[]\r\n",
        "\r\n",
        "for event in df['Event'].unique():\r\n",
        "  data.append([event,len(df[df['Event']==event])])\r\n",
        "\r\n",
        "pd.DataFrame(data,columns=['event','freq']).sort_values(by='freq',ascending=False).head().plot(x='event',y='freq',kind='bar',figsize=(5,5))"
      ],
      "outputs": [
        {
          "output_type": "execute_result",
          "data": {
            "text/plain": [
              "<AxesSubplot:xlabel='event'>"
            ]
          },
          "metadata": {},
          "execution_count": 35
        },
        {
          "output_type": "display_data",
          "data": {
            "image/png": "[encoded data removed]",
            "text/plain": [
              "<Figure size 360x360 with 1 Axes>"
            ]
          },
          "metadata": {
            "needs_background": "light"
          }
        }
      ],
      "metadata": {
        "id": "p_R0jgdmgvvL",
        "colab": {
          "base_uri": "https://localhost:8080/",
          "height": 436
        },
        "outputId": "03279ac4-5dad-489c-e278-a1a025e4f1b8"
      }
    },
    {
      "cell_type": "markdown",
      "source": [
        "### 8. Which sport is having most female Gold Medalists? (Top 5)"
      ],
      "metadata": {
        "id": "mOn_SfPGgvvL"
      }
    },
    {
      "cell_type": "code",
      "execution_count": 36,
      "source": [
        "df = pd.read_csv('summer.csv')\r\n",
        "df = df[df['Medal']=='Gold']\r\n",
        "df = df[df['Gender']=='Women']\r\n",
        "\r\n",
        "data = []\r\n",
        "\r\n",
        "for sport in df['Sport'].unique():\r\n",
        "   data.append([sport,len(df[df['Sport']==sport])])\r\n",
        "\r\n",
        "pd.DataFrame(data,columns=['sport','freq']).sort_values(by='freq',ascending=False).head().plot(x='sport',y='freq',kind='bar',figsize=(5,5))"
      ],
      "outputs": [
        {
          "output_type": "execute_result",
          "data": {
            "text/plain": [
              "<AxesSubplot:xlabel='sport'>"
            ]
          },
          "metadata": {},
          "execution_count": 36
        },
        {
          "output_type": "display_data",
          "data": {
            "image/png": "[encoded data removed]",
            "text/plain": [
              "<Figure size 360x360 with 1 Axes>"
            ]
          },
          "metadata": {
            "needs_background": "light"
          }
        }
      ],
      "metadata": {
        "id": "4lmVKJ5SgvvM",
        "colab": {
          "base_uri": "https://localhost:8080/",
          "height": 403
        },
        "outputId": "0f5441d7-5bd0-4f24-b2c0-bc0daccc8227"
      }
    }
  ]
}